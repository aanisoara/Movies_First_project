{
 "cells": [
  {
   "cell_type": "code",
   "execution_count": null,
   "id": "7ea3b2c3-acba-48ad-9c3f-5838bd33c20b",
   "metadata": {},
   "outputs": [],
   "source": [
    "# On importe les librairies\n",
    "import numpy as np\n",
    "import pandas as pd\n",
    "import matplotlib.pyplot as plt\n",
    "import seaborn as sns\n",
    "import os"
   ]
  },
  {
   "cell_type": "markdown",
   "id": "1a7f315e-c758-4406-a842-a0fff739dcce",
   "metadata": {},
   "source": [
    "---\n",
    "# 2. MOTEUR DE RECHERCHE\n",
    "---"
   ]
  },
  {
   "cell_type": "markdown",
   "id": "ebf0c91d-72d6-414a-a304-c6f8b5d93b61",
   "metadata": {},
   "source": [
    "---\n",
    "## 2.1. Recherche à partir d'un titre\n",
    "---"
   ]
  },
  {
   "cell_type": "markdown",
   "id": "7ebda80b-b63a-4338-82a9-9e2ab803b90f",
   "metadata": {},
   "source": [
    "#####  L’utilisateur saisit le titre d’un film ou d’une série : Afficher les plateformes sur lesquelles le film/la série est disponible avec des nformations comme l’année de sortie, le synopsis, les acteurs principaux, le genre. Si c’est un film, donner sa note sur IMDb si elle existe. Prendre en compte le cas où l’utilisateur entre un film qui n’existe dans aucun catalogue."
   ]
  },
  {
   "cell_type": "code",
   "execution_count": null,
   "id": "a16d7320-5dcd-4c8c-8ddb-037068497d8a",
   "metadata": {
    "tags": []
   },
   "outputs": [],
   "source": [
    "# import RECHERCHE_A_PARTIR_DE_TITRE (Voir le module)"
   ]
  },
  {
   "cell_type": "markdown",
   "id": "d8d18731-2c47-4057-ab0e-9d2dd1bea6e9",
   "metadata": {},
   "source": [
    "---\n",
    "## 2.2. Recherche à partir du nom d'un acteur\n",
    "---"
   ]
  },
  {
   "cell_type": "markdown",
   "id": "8d8eaa7b-dce2-49b0-9da6-2b3e06893d49",
   "metadata": {},
   "source": [
    "##### L’utilisateur entre le nom d’un acteur : Suggérer une plateforme entre les 3 en fonction du nombre de films/séries de l’acteur disponible sur chacune des plateformes, puis afficher les films/séries de cet acteur disponibles avec des informations dessus (type, nom, année, synopsis, classification et genres)"
   ]
  },
  {
   "cell_type": "code",
   "execution_count": null,
   "id": "53f51513-389f-45df-a66f-4739583a1153",
   "metadata": {},
   "outputs": [],
   "source": [
    "# import RECHERCHE_A_PARTIR_DU_NOM_ACTEUR (Voir le module)"
   ]
  },
  {
   "cell_type": "markdown",
   "id": "1360df50-bb6f-4a4a-b692-d35c863c1a51",
   "metadata": {},
   "source": [
    "---\n",
    "## 2.3. Recherche à partir d'un type et d'un genre\n",
    "---"
   ]
  },
  {
   "cell_type": "markdown",
   "id": "d8cf9093-c0ae-4af4-a1eb-7eeb81ff806c",
   "metadata": {},
   "source": [
    "#####   L’utilisateur saisit un type de contenu (film/série) et un genre : Afficher le nombre de résultats qui remplissent les critères d’entrée pour chacune des plateformes puis parmi ces résultats les 3 films ou séries les plus récent(e)s pour chaque plateforme."
   ]
  },
  {
   "cell_type": "code",
   "execution_count": null,
   "id": "51133e25-1ea6-429d-91b3-632111a182ab",
   "metadata": {},
   "outputs": [],
   "source": [
    "# import RECHERCHE_A_PARTIR_DU_TYPE_GENRE (Voir le module)"
   ]
  },
  {
   "cell_type": "markdown",
   "id": "7fde8752-4ff3-4bca-9919-dde154af6d95",
   "metadata": {},
   "source": [
    "---\n",
    "## 2.4. Suggestion selon préférences\n",
    "---"
   ]
  },
  {
   "cell_type": "markdown",
   "id": "85fb50ba-245c-44ef-8e4c-c25655c31afc",
   "metadata": {},
   "source": [
    "##### Demander à l’utilisateur des informations sur ses préférences : séries ou films, genre, rating, pays de production et éventuellement le nom d’un ou de plusieurs acteurs et suggérer du contenu sur chaque plateforme. Pour cette suggestion, vous pouvez par exemple donner les 5 films/séries les plus récent(e)s pour chaque plateforme, les 5 films/séries ajoutées le plus récemment etc. Vous mentionnerez le critère choisi."
   ]
  },
  {
   "cell_type": "code",
   "execution_count": null,
   "id": "21284121-3cfc-4850-88aa-97b9d3896e39",
   "metadata": {},
   "outputs": [],
   "source": [
    "# import SUGGESTION_SELON_PREFERENCES (Voir le module) "
   ]
  }
 ],
 "metadata": {
  "kernelspec": {
   "display_name": "Python 3",
   "language": "python",
   "name": "python3"
  },
  "language_info": {
   "codemirror_mode": {
    "name": "ipython",
    "version": 3
   },
   "file_extension": ".py",
   "mimetype": "text/x-python",
   "name": "python",
   "nbconvert_exporter": "python",
   "pygments_lexer": "ipython3",
   "version": "3.8.8"
  }
 },
 "nbformat": 4,
 "nbformat_minor": 5
}
